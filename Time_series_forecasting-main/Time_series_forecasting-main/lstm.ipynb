{
 "cells": [
  {
   "cell_type": "code",
   "execution_count": 1,
   "metadata": {},
   "outputs": [],
   "source": [
    "import numpy as np\n",
    "import pandas as pd\n",
    "import matplotlib.pyplot as plt\n",
    "from sklearn.preprocessing import MinMaxScaler\n",
    "from tensorflow.keras.models import Sequential\n",
    "from tensorflow.keras.layers import LSTM, Dense, Dropout \n"
   ]
  },
  {
   "cell_type": "code",
   "execution_count": 2,
   "metadata": {},
   "outputs": [
    {
     "data": {
      "text/html": [
       "<div>\n",
       "<style scoped>\n",
       "    .dataframe tbody tr th:only-of-type {\n",
       "        vertical-align: middle;\n",
       "    }\n",
       "\n",
       "    .dataframe tbody tr th {\n",
       "        vertical-align: top;\n",
       "    }\n",
       "\n",
       "    .dataframe thead th {\n",
       "        text-align: right;\n",
       "    }\n",
       "</style>\n",
       "<table border=\"1\" class=\"dataframe\">\n",
       "  <thead>\n",
       "    <tr style=\"text-align: right;\">\n",
       "      <th></th>\n",
       "      <th>Date</th>\n",
       "      <th>Open</th>\n",
       "      <th>High</th>\n",
       "      <th>Low</th>\n",
       "      <th>Close</th>\n",
       "      <th>Adj Close</th>\n",
       "      <th>Volume</th>\n",
       "    </tr>\n",
       "  </thead>\n",
       "  <tbody>\n",
       "    <tr>\n",
       "      <th>0</th>\n",
       "      <td>2010-06-29</td>\n",
       "      <td>3.800</td>\n",
       "      <td>5.000</td>\n",
       "      <td>3.508</td>\n",
       "      <td>4.778</td>\n",
       "      <td>4.778</td>\n",
       "      <td>93831500</td>\n",
       "    </tr>\n",
       "    <tr>\n",
       "      <th>1</th>\n",
       "      <td>2010-06-30</td>\n",
       "      <td>5.158</td>\n",
       "      <td>6.084</td>\n",
       "      <td>4.660</td>\n",
       "      <td>4.766</td>\n",
       "      <td>4.766</td>\n",
       "      <td>85935500</td>\n",
       "    </tr>\n",
       "    <tr>\n",
       "      <th>2</th>\n",
       "      <td>2010-07-01</td>\n",
       "      <td>5.000</td>\n",
       "      <td>5.184</td>\n",
       "      <td>4.054</td>\n",
       "      <td>4.392</td>\n",
       "      <td>4.392</td>\n",
       "      <td>41094000</td>\n",
       "    </tr>\n",
       "    <tr>\n",
       "      <th>3</th>\n",
       "      <td>2010-07-02</td>\n",
       "      <td>4.600</td>\n",
       "      <td>4.620</td>\n",
       "      <td>3.742</td>\n",
       "      <td>3.840</td>\n",
       "      <td>3.840</td>\n",
       "      <td>25699000</td>\n",
       "    </tr>\n",
       "    <tr>\n",
       "      <th>4</th>\n",
       "      <td>2010-07-06</td>\n",
       "      <td>4.000</td>\n",
       "      <td>4.000</td>\n",
       "      <td>3.166</td>\n",
       "      <td>3.222</td>\n",
       "      <td>3.222</td>\n",
       "      <td>34334500</td>\n",
       "    </tr>\n",
       "  </tbody>\n",
       "</table>\n",
       "</div>"
      ],
      "text/plain": [
       "         Date   Open   High    Low  Close  Adj Close    Volume\n",
       "0  2010-06-29  3.800  5.000  3.508  4.778      4.778  93831500\n",
       "1  2010-06-30  5.158  6.084  4.660  4.766      4.766  85935500\n",
       "2  2010-07-01  5.000  5.184  4.054  4.392      4.392  41094000\n",
       "3  2010-07-02  4.600  4.620  3.742  3.840      3.840  25699000\n",
       "4  2010-07-06  4.000  4.000  3.166  3.222      3.222  34334500"
      ]
     },
     "execution_count": 2,
     "metadata": {},
     "output_type": "execute_result"
    }
   ],
   "source": [
    "dataset = pd.read_csv('TSLA.csv')\n",
    "dataset.head()"
   ]
  },
  {
   "cell_type": "code",
   "execution_count": 3,
   "metadata": {},
   "outputs": [],
   "source": [
    "dataset = dataset.rename(columns={'Adj Close':'Adj_Close'})"
   ]
  },
  {
   "cell_type": "code",
   "execution_count": 4,
   "metadata": {},
   "outputs": [
    {
     "data": {
      "text/html": [
       "<div>\n",
       "<style scoped>\n",
       "    .dataframe tbody tr th:only-of-type {\n",
       "        vertical-align: middle;\n",
       "    }\n",
       "\n",
       "    .dataframe tbody tr th {\n",
       "        vertical-align: top;\n",
       "    }\n",
       "\n",
       "    .dataframe thead th {\n",
       "        text-align: right;\n",
       "    }\n",
       "</style>\n",
       "<table border=\"1\" class=\"dataframe\">\n",
       "  <thead>\n",
       "    <tr style=\"text-align: right;\">\n",
       "      <th></th>\n",
       "      <th>Date</th>\n",
       "      <th>Open</th>\n",
       "      <th>High</th>\n",
       "      <th>Low</th>\n",
       "      <th>Close</th>\n",
       "      <th>Adj_Close</th>\n",
       "      <th>Volume</th>\n",
       "    </tr>\n",
       "  </thead>\n",
       "  <tbody>\n",
       "    <tr>\n",
       "      <th>2951</th>\n",
       "      <td>2022-03-18</td>\n",
       "      <td>874.489990</td>\n",
       "      <td>907.849976</td>\n",
       "      <td>867.390015</td>\n",
       "      <td>905.390015</td>\n",
       "      <td>905.390015</td>\n",
       "      <td>33408500</td>\n",
       "    </tr>\n",
       "    <tr>\n",
       "      <th>2952</th>\n",
       "      <td>2022-03-21</td>\n",
       "      <td>914.979980</td>\n",
       "      <td>942.849976</td>\n",
       "      <td>907.090027</td>\n",
       "      <td>921.159973</td>\n",
       "      <td>921.159973</td>\n",
       "      <td>27327200</td>\n",
       "    </tr>\n",
       "    <tr>\n",
       "      <th>2953</th>\n",
       "      <td>2022-03-22</td>\n",
       "      <td>930.000000</td>\n",
       "      <td>997.859985</td>\n",
       "      <td>921.750000</td>\n",
       "      <td>993.979980</td>\n",
       "      <td>993.979980</td>\n",
       "      <td>35289500</td>\n",
       "    </tr>\n",
       "    <tr>\n",
       "      <th>2954</th>\n",
       "      <td>2022-03-23</td>\n",
       "      <td>979.940002</td>\n",
       "      <td>1040.699951</td>\n",
       "      <td>976.400024</td>\n",
       "      <td>999.109985</td>\n",
       "      <td>999.109985</td>\n",
       "      <td>40225400</td>\n",
       "    </tr>\n",
       "    <tr>\n",
       "      <th>2955</th>\n",
       "      <td>2022-03-24</td>\n",
       "      <td>1009.729980</td>\n",
       "      <td>1024.489990</td>\n",
       "      <td>988.799988</td>\n",
       "      <td>1013.919983</td>\n",
       "      <td>1013.919983</td>\n",
       "      <td>22901900</td>\n",
       "    </tr>\n",
       "  </tbody>\n",
       "</table>\n",
       "</div>"
      ],
      "text/plain": [
       "            Date         Open         High         Low        Close  \\\n",
       "2951  2022-03-18   874.489990   907.849976  867.390015   905.390015   \n",
       "2952  2022-03-21   914.979980   942.849976  907.090027   921.159973   \n",
       "2953  2022-03-22   930.000000   997.859985  921.750000   993.979980   \n",
       "2954  2022-03-23   979.940002  1040.699951  976.400024   999.109985   \n",
       "2955  2022-03-24  1009.729980  1024.489990  988.799988  1013.919983   \n",
       "\n",
       "        Adj_Close    Volume  \n",
       "2951   905.390015  33408500  \n",
       "2952   921.159973  27327200  \n",
       "2953   993.979980  35289500  \n",
       "2954   999.109985  40225400  \n",
       "2955  1013.919983  22901900  "
      ]
     },
     "execution_count": 4,
     "metadata": {},
     "output_type": "execute_result"
    }
   ],
   "source": [
    "dataset.tail()"
   ]
  },
  {
   "cell_type": "markdown",
   "metadata": {},
   "source": [
    "* Training the model till 31/12/2020 and dates after that will be used for evaluating the model\n",
    "* Therefore, we would be splitting the training set and dataset accordingly"
   ]
  },
  {
   "cell_type": "code",
   "execution_count": 5,
   "metadata": {},
   "outputs": [
    {
     "data": {
      "text/plain": [
       "Int64Index([2646], dtype='int64')"
      ]
     },
     "execution_count": 5,
     "metadata": {},
     "output_type": "execute_result"
    }
   ],
   "source": [
    "index = dataset.index[dataset['Date']=='2020-12-31']\n",
    "index"
   ]
  },
  {
   "cell_type": "code",
   "execution_count": 6,
   "metadata": {},
   "outputs": [],
   "source": [
    "test_set = dataset[2647:]\n",
    "train_set = dataset[:2647]"
   ]
  },
  {
   "cell_type": "code",
   "execution_count": 7,
   "metadata": {},
   "outputs": [
    {
     "data": {
      "text/html": [
       "<div>\n",
       "<style scoped>\n",
       "    .dataframe tbody tr th:only-of-type {\n",
       "        vertical-align: middle;\n",
       "    }\n",
       "\n",
       "    .dataframe tbody tr th {\n",
       "        vertical-align: top;\n",
       "    }\n",
       "\n",
       "    .dataframe thead th {\n",
       "        text-align: right;\n",
       "    }\n",
       "</style>\n",
       "<table border=\"1\" class=\"dataframe\">\n",
       "  <thead>\n",
       "    <tr style=\"text-align: right;\">\n",
       "      <th></th>\n",
       "      <th>Date</th>\n",
       "      <th>Open</th>\n",
       "      <th>High</th>\n",
       "      <th>Low</th>\n",
       "      <th>Close</th>\n",
       "      <th>Adj_Close</th>\n",
       "      <th>Volume</th>\n",
       "    </tr>\n",
       "  </thead>\n",
       "  <tbody>\n",
       "    <tr>\n",
       "      <th>0</th>\n",
       "      <td>2010-06-29</td>\n",
       "      <td>3.80000</td>\n",
       "      <td>5.000000</td>\n",
       "      <td>3.508000</td>\n",
       "      <td>4.778000</td>\n",
       "      <td>4.778000</td>\n",
       "      <td>93831500</td>\n",
       "    </tr>\n",
       "    <tr>\n",
       "      <th>1</th>\n",
       "      <td>2010-06-30</td>\n",
       "      <td>5.15800</td>\n",
       "      <td>6.084000</td>\n",
       "      <td>4.660000</td>\n",
       "      <td>4.766000</td>\n",
       "      <td>4.766000</td>\n",
       "      <td>85935500</td>\n",
       "    </tr>\n",
       "    <tr>\n",
       "      <th>2</th>\n",
       "      <td>2010-07-01</td>\n",
       "      <td>5.00000</td>\n",
       "      <td>5.184000</td>\n",
       "      <td>4.054000</td>\n",
       "      <td>4.392000</td>\n",
       "      <td>4.392000</td>\n",
       "      <td>41094000</td>\n",
       "    </tr>\n",
       "    <tr>\n",
       "      <th>3</th>\n",
       "      <td>2010-07-02</td>\n",
       "      <td>4.60000</td>\n",
       "      <td>4.620000</td>\n",
       "      <td>3.742000</td>\n",
       "      <td>3.840000</td>\n",
       "      <td>3.840000</td>\n",
       "      <td>25699000</td>\n",
       "    </tr>\n",
       "    <tr>\n",
       "      <th>4</th>\n",
       "      <td>2010-07-06</td>\n",
       "      <td>4.00000</td>\n",
       "      <td>4.000000</td>\n",
       "      <td>3.166000</td>\n",
       "      <td>3.222000</td>\n",
       "      <td>3.222000</td>\n",
       "      <td>34334500</td>\n",
       "    </tr>\n",
       "    <tr>\n",
       "      <th>...</th>\n",
       "      <td>...</td>\n",
       "      <td>...</td>\n",
       "      <td>...</td>\n",
       "      <td>...</td>\n",
       "      <td>...</td>\n",
       "      <td>...</td>\n",
       "      <td>...</td>\n",
       "    </tr>\n",
       "    <tr>\n",
       "      <th>2642</th>\n",
       "      <td>2020-12-24</td>\n",
       "      <td>642.98999</td>\n",
       "      <td>666.090027</td>\n",
       "      <td>641.000000</td>\n",
       "      <td>661.770020</td>\n",
       "      <td>661.770020</td>\n",
       "      <td>22865600</td>\n",
       "    </tr>\n",
       "    <tr>\n",
       "      <th>2643</th>\n",
       "      <td>2020-12-28</td>\n",
       "      <td>674.51001</td>\n",
       "      <td>681.400024</td>\n",
       "      <td>660.799988</td>\n",
       "      <td>663.690002</td>\n",
       "      <td>663.690002</td>\n",
       "      <td>32278600</td>\n",
       "    </tr>\n",
       "    <tr>\n",
       "      <th>2644</th>\n",
       "      <td>2020-12-29</td>\n",
       "      <td>661.00000</td>\n",
       "      <td>669.900024</td>\n",
       "      <td>655.000000</td>\n",
       "      <td>665.989990</td>\n",
       "      <td>665.989990</td>\n",
       "      <td>22910800</td>\n",
       "    </tr>\n",
       "    <tr>\n",
       "      <th>2645</th>\n",
       "      <td>2020-12-30</td>\n",
       "      <td>672.00000</td>\n",
       "      <td>696.599976</td>\n",
       "      <td>668.359985</td>\n",
       "      <td>694.780029</td>\n",
       "      <td>694.780029</td>\n",
       "      <td>42846000</td>\n",
       "    </tr>\n",
       "    <tr>\n",
       "      <th>2646</th>\n",
       "      <td>2020-12-31</td>\n",
       "      <td>699.98999</td>\n",
       "      <td>718.719971</td>\n",
       "      <td>691.119995</td>\n",
       "      <td>705.669983</td>\n",
       "      <td>705.669983</td>\n",
       "      <td>49649900</td>\n",
       "    </tr>\n",
       "  </tbody>\n",
       "</table>\n",
       "<p>2647 rows × 7 columns</p>\n",
       "</div>"
      ],
      "text/plain": [
       "            Date       Open        High         Low       Close   Adj_Close  \\\n",
       "0     2010-06-29    3.80000    5.000000    3.508000    4.778000    4.778000   \n",
       "1     2010-06-30    5.15800    6.084000    4.660000    4.766000    4.766000   \n",
       "2     2010-07-01    5.00000    5.184000    4.054000    4.392000    4.392000   \n",
       "3     2010-07-02    4.60000    4.620000    3.742000    3.840000    3.840000   \n",
       "4     2010-07-06    4.00000    4.000000    3.166000    3.222000    3.222000   \n",
       "...          ...        ...         ...         ...         ...         ...   \n",
       "2642  2020-12-24  642.98999  666.090027  641.000000  661.770020  661.770020   \n",
       "2643  2020-12-28  674.51001  681.400024  660.799988  663.690002  663.690002   \n",
       "2644  2020-12-29  661.00000  669.900024  655.000000  665.989990  665.989990   \n",
       "2645  2020-12-30  672.00000  696.599976  668.359985  694.780029  694.780029   \n",
       "2646  2020-12-31  699.98999  718.719971  691.119995  705.669983  705.669983   \n",
       "\n",
       "        Volume  \n",
       "0     93831500  \n",
       "1     85935500  \n",
       "2     41094000  \n",
       "3     25699000  \n",
       "4     34334500  \n",
       "...        ...  \n",
       "2642  22865600  \n",
       "2643  32278600  \n",
       "2644  22910800  \n",
       "2645  42846000  \n",
       "2646  49649900  \n",
       "\n",
       "[2647 rows x 7 columns]"
      ]
     },
     "execution_count": 7,
     "metadata": {},
     "output_type": "execute_result"
    }
   ],
   "source": [
    "train_set"
   ]
  },
  {
   "cell_type": "code",
   "execution_count": 8,
   "metadata": {},
   "outputs": [
    {
     "data": {
      "text/html": [
       "<div>\n",
       "<style scoped>\n",
       "    .dataframe tbody tr th:only-of-type {\n",
       "        vertical-align: middle;\n",
       "    }\n",
       "\n",
       "    .dataframe tbody tr th {\n",
       "        vertical-align: top;\n",
       "    }\n",
       "\n",
       "    .dataframe thead th {\n",
       "        text-align: right;\n",
       "    }\n",
       "</style>\n",
       "<table border=\"1\" class=\"dataframe\">\n",
       "  <thead>\n",
       "    <tr style=\"text-align: right;\">\n",
       "      <th></th>\n",
       "      <th>Date</th>\n",
       "      <th>Open</th>\n",
       "      <th>High</th>\n",
       "      <th>Low</th>\n",
       "      <th>Close</th>\n",
       "      <th>Adj_Close</th>\n",
       "      <th>Volume</th>\n",
       "    </tr>\n",
       "  </thead>\n",
       "  <tbody>\n",
       "    <tr>\n",
       "      <th>2647</th>\n",
       "      <td>2021-01-04</td>\n",
       "      <td>719.460022</td>\n",
       "      <td>744.489990</td>\n",
       "      <td>717.190002</td>\n",
       "      <td>729.770020</td>\n",
       "      <td>729.770020</td>\n",
       "      <td>48638200</td>\n",
       "    </tr>\n",
       "    <tr>\n",
       "      <th>2648</th>\n",
       "      <td>2021-01-05</td>\n",
       "      <td>723.659973</td>\n",
       "      <td>740.840027</td>\n",
       "      <td>719.200012</td>\n",
       "      <td>735.109985</td>\n",
       "      <td>735.109985</td>\n",
       "      <td>32245200</td>\n",
       "    </tr>\n",
       "    <tr>\n",
       "      <th>2649</th>\n",
       "      <td>2021-01-06</td>\n",
       "      <td>758.489990</td>\n",
       "      <td>774.000000</td>\n",
       "      <td>749.099976</td>\n",
       "      <td>755.979980</td>\n",
       "      <td>755.979980</td>\n",
       "      <td>44700000</td>\n",
       "    </tr>\n",
       "    <tr>\n",
       "      <th>2650</th>\n",
       "      <td>2021-01-07</td>\n",
       "      <td>777.630005</td>\n",
       "      <td>816.989990</td>\n",
       "      <td>775.200012</td>\n",
       "      <td>816.039978</td>\n",
       "      <td>816.039978</td>\n",
       "      <td>51498900</td>\n",
       "    </tr>\n",
       "    <tr>\n",
       "      <th>2651</th>\n",
       "      <td>2021-01-08</td>\n",
       "      <td>856.000000</td>\n",
       "      <td>884.489990</td>\n",
       "      <td>838.390015</td>\n",
       "      <td>880.020020</td>\n",
       "      <td>880.020020</td>\n",
       "      <td>75055500</td>\n",
       "    </tr>\n",
       "    <tr>\n",
       "      <th>...</th>\n",
       "      <td>...</td>\n",
       "      <td>...</td>\n",
       "      <td>...</td>\n",
       "      <td>...</td>\n",
       "      <td>...</td>\n",
       "      <td>...</td>\n",
       "      <td>...</td>\n",
       "    </tr>\n",
       "    <tr>\n",
       "      <th>2951</th>\n",
       "      <td>2022-03-18</td>\n",
       "      <td>874.489990</td>\n",
       "      <td>907.849976</td>\n",
       "      <td>867.390015</td>\n",
       "      <td>905.390015</td>\n",
       "      <td>905.390015</td>\n",
       "      <td>33408500</td>\n",
       "    </tr>\n",
       "    <tr>\n",
       "      <th>2952</th>\n",
       "      <td>2022-03-21</td>\n",
       "      <td>914.979980</td>\n",
       "      <td>942.849976</td>\n",
       "      <td>907.090027</td>\n",
       "      <td>921.159973</td>\n",
       "      <td>921.159973</td>\n",
       "      <td>27327200</td>\n",
       "    </tr>\n",
       "    <tr>\n",
       "      <th>2953</th>\n",
       "      <td>2022-03-22</td>\n",
       "      <td>930.000000</td>\n",
       "      <td>997.859985</td>\n",
       "      <td>921.750000</td>\n",
       "      <td>993.979980</td>\n",
       "      <td>993.979980</td>\n",
       "      <td>35289500</td>\n",
       "    </tr>\n",
       "    <tr>\n",
       "      <th>2954</th>\n",
       "      <td>2022-03-23</td>\n",
       "      <td>979.940002</td>\n",
       "      <td>1040.699951</td>\n",
       "      <td>976.400024</td>\n",
       "      <td>999.109985</td>\n",
       "      <td>999.109985</td>\n",
       "      <td>40225400</td>\n",
       "    </tr>\n",
       "    <tr>\n",
       "      <th>2955</th>\n",
       "      <td>2022-03-24</td>\n",
       "      <td>1009.729980</td>\n",
       "      <td>1024.489990</td>\n",
       "      <td>988.799988</td>\n",
       "      <td>1013.919983</td>\n",
       "      <td>1013.919983</td>\n",
       "      <td>22901900</td>\n",
       "    </tr>\n",
       "  </tbody>\n",
       "</table>\n",
       "<p>309 rows × 7 columns</p>\n",
       "</div>"
      ],
      "text/plain": [
       "            Date         Open         High         Low        Close  \\\n",
       "2647  2021-01-04   719.460022   744.489990  717.190002   729.770020   \n",
       "2648  2021-01-05   723.659973   740.840027  719.200012   735.109985   \n",
       "2649  2021-01-06   758.489990   774.000000  749.099976   755.979980   \n",
       "2650  2021-01-07   777.630005   816.989990  775.200012   816.039978   \n",
       "2651  2021-01-08   856.000000   884.489990  838.390015   880.020020   \n",
       "...          ...          ...          ...         ...          ...   \n",
       "2951  2022-03-18   874.489990   907.849976  867.390015   905.390015   \n",
       "2952  2022-03-21   914.979980   942.849976  907.090027   921.159973   \n",
       "2953  2022-03-22   930.000000   997.859985  921.750000   993.979980   \n",
       "2954  2022-03-23   979.940002  1040.699951  976.400024   999.109985   \n",
       "2955  2022-03-24  1009.729980  1024.489990  988.799988  1013.919983   \n",
       "\n",
       "        Adj_Close    Volume  \n",
       "2647   729.770020  48638200  \n",
       "2648   735.109985  32245200  \n",
       "2649   755.979980  44700000  \n",
       "2650   816.039978  51498900  \n",
       "2651   880.020020  75055500  \n",
       "...           ...       ...  \n",
       "2951   905.390015  33408500  \n",
       "2952   921.159973  27327200  \n",
       "2953   993.979980  35289500  \n",
       "2954   999.109985  40225400  \n",
       "2955  1013.919983  22901900  \n",
       "\n",
       "[309 rows x 7 columns]"
      ]
     },
     "execution_count": 8,
     "metadata": {},
     "output_type": "execute_result"
    }
   ],
   "source": [
    "test_set"
   ]
  },
  {
   "cell_type": "markdown",
   "metadata": {},
   "source": [
    "We would like to predict the trend using the Adjusted Close value of the stock.\n",
    "* Since keras only takes numpy array, we need to convert our training data to numpy as well"
   ]
  },
  {
   "cell_type": "code",
   "execution_count": 9,
   "metadata": {},
   "outputs": [
    {
     "data": {
      "text/plain": [
       "numpy.ndarray"
      ]
     },
     "execution_count": 9,
     "metadata": {},
     "output_type": "execute_result"
    }
   ],
   "source": [
    "train_set = train_set.iloc[:,5:6].values\n",
    "type(train_set)"
   ]
  },
  {
   "cell_type": "code",
   "execution_count": 10,
   "metadata": {},
   "outputs": [
    {
     "data": {
      "image/png": "[encoded data removed]",
      "text/plain": [
       "<Figure size 640x480 with 1 Axes>"
      ]
     },
     "metadata": {},
     "output_type": "display_data"
    }
   ],
   "source": [
    "plt.plot(dataset['Adj_Close'][:2647])\n",
    "plt.title(\"Tesla Stock Adjusted Close Prices\")\n",
    "plt.xlabel(\"Time\")\n",
    "plt.ylabel(\"Stock Adjusted Close Price\")\n",
    "plt.show()"
   ]
  },
  {
   "cell_type": "code",
   "execution_count": 11,
   "metadata": {},
   "outputs": [
    {
     "name": "stdout",
     "output_type": "stream",
     "text": [
      "Requirement already satisfied: statsmodels in /Users/prekshupranavsingh/tensorflow-test/env/lib/python3.10/site-packages (0.14.0)\n",
      "Requirement already satisfied: patsy>=0.5.2 in /Users/prekshupranavsingh/tensorflow-test/env/lib/python3.10/site-packages (from statsmodels) (0.5.3)\n",
      "Requirement already satisfied: pandas>=1.0 in /Users/prekshupranavsingh/tensorflow-test/env/lib/python3.10/site-packages (from statsmodels) (1.5.2)\n",
      "Requirement already satisfied: numpy>=1.18 in /Users/prekshupranavsingh/tensorflow-test/env/lib/python3.10/site-packages (from statsmodels) (1.23.2)\n",
      "Requirement already satisfied: scipy!=1.9.2,>=1.4 in /Users/prekshupranavsingh/tensorflow-test/env/lib/python3.10/site-packages (from statsmodels) (1.9.3)\n",
      "Requirement already satisfied: packaging>=21.3 in /Users/prekshupranavsingh/tensorflow-test/env/lib/python3.10/site-packages (from statsmodels) (22.0)\n",
      "Requirement already satisfied: python-dateutil>=2.8.1 in /Users/prekshupranavsingh/tensorflow-test/env/lib/python3.10/site-packages (from pandas>=1.0->statsmodels) (2.8.2)\n",
      "Requirement already satisfied: pytz>=2020.1 in /Users/prekshupranavsingh/tensorflow-test/env/lib/python3.10/site-packages (from pandas>=1.0->statsmodels) (2022.6)\n",
      "Requirement already satisfied: six in /Users/prekshupranavsingh/tensorflow-test/env/lib/python3.10/site-packages (from patsy>=0.5.2->statsmodels) (1.15.0)\n"
     ]
    }
   ],
   "source": [
    "! pip install statsmodels"
   ]
  },
  {
   "cell_type": "code",
   "execution_count": 12,
   "metadata": {},
   "outputs": [],
   "source": [
    "df = pd.read_csv('Google_Stock_Price_Train.csv')\n",
    "df['Close'] = df['Close'].apply(lambda x: float(x.replace(',', '')))"
   ]
  },
  {
   "cell_type": "code",
   "execution_count": 13,
   "metadata": {},
   "outputs": [
    {
     "data": {
      "text/html": [
       "<div>\n",
       "<style scoped>\n",
       "    .dataframe tbody tr th:only-of-type {\n",
       "        vertical-align: middle;\n",
       "    }\n",
       "\n",
       "    .dataframe tbody tr th {\n",
       "        vertical-align: top;\n",
       "    }\n",
       "\n",
       "    .dataframe thead th {\n",
       "        text-align: right;\n",
       "    }\n",
       "</style>\n",
       "<table border=\"1\" class=\"dataframe\">\n",
       "  <thead>\n",
       "    <tr style=\"text-align: right;\">\n",
       "      <th></th>\n",
       "      <th>Date</th>\n",
       "      <th>Open</th>\n",
       "      <th>High</th>\n",
       "      <th>Low</th>\n",
       "      <th>Close</th>\n",
       "      <th>Volume</th>\n",
       "    </tr>\n",
       "  </thead>\n",
       "  <tbody>\n",
       "    <tr>\n",
       "      <th>0</th>\n",
       "      <td>01/03/2012</td>\n",
       "      <td>325.250000</td>\n",
       "      <td>332.830000</td>\n",
       "      <td>324.970000</td>\n",
       "      <td>663.590000</td>\n",
       "      <td>7,380,500</td>\n",
       "    </tr>\n",
       "    <tr>\n",
       "      <th>1</th>\n",
       "      <td>01/04/2012</td>\n",
       "      <td>331.270000</td>\n",
       "      <td>333.870000</td>\n",
       "      <td>329.080000</td>\n",
       "      <td>666.450000</td>\n",
       "      <td>5,749,400</td>\n",
       "    </tr>\n",
       "    <tr>\n",
       "      <th>2</th>\n",
       "      <td>01/05/2012</td>\n",
       "      <td>329.830000</td>\n",
       "      <td>330.750000</td>\n",
       "      <td>326.890000</td>\n",
       "      <td>657.210000</td>\n",
       "      <td>6,590,300</td>\n",
       "    </tr>\n",
       "    <tr>\n",
       "      <th>3</th>\n",
       "      <td>01/06/2012</td>\n",
       "      <td>328.340000</td>\n",
       "      <td>328.770000</td>\n",
       "      <td>323.680000</td>\n",
       "      <td>648.240000</td>\n",
       "      <td>5,405,900</td>\n",
       "    </tr>\n",
       "    <tr>\n",
       "      <th>4</th>\n",
       "      <td>01/09/2012</td>\n",
       "      <td>322.040000</td>\n",
       "      <td>322.290000</td>\n",
       "      <td>309.460000</td>\n",
       "      <td>620.760000</td>\n",
       "      <td>11,688,800</td>\n",
       "    </tr>\n",
       "    <tr>\n",
       "      <th>...</th>\n",
       "      <td>...</td>\n",
       "      <td>...</td>\n",
       "      <td>...</td>\n",
       "      <td>...</td>\n",
       "      <td>...</td>\n",
       "      <td>...</td>\n",
       "    </tr>\n",
       "    <tr>\n",
       "      <th>1504</th>\n",
       "      <td>22/12/2017</td>\n",
       "      <td>1061.109985</td>\n",
       "      <td>1064.199951</td>\n",
       "      <td>1059.439941</td>\n",
       "      <td>1060.119995</td>\n",
       "      <td>755100</td>\n",
       "    </tr>\n",
       "    <tr>\n",
       "      <th>1505</th>\n",
       "      <td>26/12/2017</td>\n",
       "      <td>1058.069946</td>\n",
       "      <td>1060.119995</td>\n",
       "      <td>1050.199951</td>\n",
       "      <td>1056.739990</td>\n",
       "      <td>760600</td>\n",
       "    </tr>\n",
       "    <tr>\n",
       "      <th>1506</th>\n",
       "      <td>27/12/2017</td>\n",
       "      <td>1057.390015</td>\n",
       "      <td>1058.369995</td>\n",
       "      <td>1048.050049</td>\n",
       "      <td>1049.369995</td>\n",
       "      <td>1271900</td>\n",
       "    </tr>\n",
       "    <tr>\n",
       "      <th>1507</th>\n",
       "      <td>28/12/2017</td>\n",
       "      <td>1051.599976</td>\n",
       "      <td>1054.750000</td>\n",
       "      <td>1044.770020</td>\n",
       "      <td>1048.140015</td>\n",
       "      <td>837100</td>\n",
       "    </tr>\n",
       "    <tr>\n",
       "      <th>1508</th>\n",
       "      <td>29/12/2017</td>\n",
       "      <td>1046.719971</td>\n",
       "      <td>1049.699951</td>\n",
       "      <td>1044.900024</td>\n",
       "      <td>1046.400024</td>\n",
       "      <td>887500</td>\n",
       "    </tr>\n",
       "  </tbody>\n",
       "</table>\n",
       "<p>1509 rows × 6 columns</p>\n",
       "</div>"
      ],
      "text/plain": [
       "            Date         Open         High          Low        Close  \\\n",
       "0     01/03/2012   325.250000   332.830000   324.970000   663.590000   \n",
       "1     01/04/2012   331.270000   333.870000   329.080000   666.450000   \n",
       "2     01/05/2012   329.830000   330.750000   326.890000   657.210000   \n",
       "3     01/06/2012   328.340000   328.770000   323.680000   648.240000   \n",
       "4     01/09/2012   322.040000   322.290000   309.460000   620.760000   \n",
       "...          ...          ...          ...          ...          ...   \n",
       "1504  22/12/2017  1061.109985  1064.199951  1059.439941  1060.119995   \n",
       "1505  26/12/2017  1058.069946  1060.119995  1050.199951  1056.739990   \n",
       "1506  27/12/2017  1057.390015  1058.369995  1048.050049  1049.369995   \n",
       "1507  28/12/2017  1051.599976  1054.750000  1044.770020  1048.140015   \n",
       "1508  29/12/2017  1046.719971  1049.699951  1044.900024  1046.400024   \n",
       "\n",
       "          Volume  \n",
       "0      7,380,500  \n",
       "1      5,749,400  \n",
       "2      6,590,300  \n",
       "3      5,405,900  \n",
       "4     11,688,800  \n",
       "...          ...  \n",
       "1504      755100  \n",
       "1505      760600  \n",
       "1506     1271900  \n",
       "1507      837100  \n",
       "1508      887500  \n",
       "\n",
       "[1509 rows x 6 columns]"
      ]
     },
     "execution_count": 13,
     "metadata": {},
     "output_type": "execute_result"
    }
   ],
   "source": [
    "df"
   ]
  },
  {
   "cell_type": "code",
   "execution_count": 14,
   "metadata": {},
   "outputs": [
    {
     "data": {
      "text/plain": [
       "0.4006026815491145"
      ]
     },
     "execution_count": 14,
     "metadata": {},
     "output_type": "execute_result"
    }
   ],
   "source": [
    "from statsmodels.tsa.stattools import adfuller\n",
    "\n",
    "result = adfuller(df['Close'])\n",
    "p_value = result[1]\n",
    "\n",
    "p_value"
   ]
  },
  {
   "cell_type": "code",
   "execution_count": 15,
   "metadata": {},
   "outputs": [],
   "source": [
    "# df['Close_Diff'] = df['Close'].diff()\n",
    "# df = df.dropna()\n"
   ]
  },
  {
   "cell_type": "code",
   "execution_count": 16,
   "metadata": {},
   "outputs": [],
   "source": [
    "# res = adfuller(df['Close_Diff'])\n",
    "# p_value = res[1]\n",
    "# print(f'{p_value:.16f}')"
   ]
  },
  {
   "cell_type": "code",
   "execution_count": 17,
   "metadata": {},
   "outputs": [],
   "source": [
    "# plt.plot(df['Close_Diff'])\n",
    "# plt.show()"
   ]
  },
  {
   "cell_type": "code",
   "execution_count": 18,
   "metadata": {},
   "outputs": [
    {
     "data": {
      "text/plain": [
       "array([[ 663.59    ],\n",
       "       [ 666.45    ],\n",
       "       [ 657.21    ],\n",
       "       ...,\n",
       "       [1049.369995],\n",
       "       [1048.140015],\n",
       "       [1046.400024]])"
      ]
     },
     "execution_count": 18,
     "metadata": {},
     "output_type": "execute_result"
    }
   ],
   "source": [
    "training_set = df.iloc[:, 4:5].values\n",
    "training_set"
   ]
  },
  {
   "cell_type": "code",
   "execution_count": 19,
   "metadata": {},
   "outputs": [],
   "source": [
    "scaler = MinMaxScaler(feature_range=(0,1))\n",
    "scaled_training_set = scaler.fit_transform(training_set)"
   ]
  },
  {
   "cell_type": "code",
   "execution_count": 20,
   "metadata": {},
   "outputs": [],
   "source": [
    "## 60 timesteps and 1 output\n",
    "X_train = []\n",
    "y_train = []\n",
    "for i in range(60, len(scaled_training_set)):\n",
    "    X_train.append(scaled_training_set[i-60: i, 0])\n",
    "    y_train.append(scaled_training_set[i, 0])\n",
    "\n",
    "X_train, y_train = np.array(X_train), np.array(y_train)"
   ]
  },
  {
   "cell_type": "code",
   "execution_count": 21,
   "metadata": {},
   "outputs": [],
   "source": [
    "X_train = np.reshape(X_train, newshape = \n",
    "                     (X_train.shape[0], X_train.shape[1], 1))"
   ]
  },
  {
   "cell_type": "code",
   "execution_count": 22,
   "metadata": {},
   "outputs": [
    {
     "name": "stdout",
     "output_type": "stream",
     "text": [
      "Metal device set to: Apple M1 Pro\n",
      "\n",
      "systemMemory: 16.00 GB\n",
      "maxCacheSize: 5.33 GB\n",
      "\n"
     ]
    },
    {
     "name": "stderr",
     "output_type": "stream",
     "text": [
      "2023-07-21 06:32:31.087219: I tensorflow/core/common_runtime/pluggable_device/pluggable_device_factory.cc:305] Could not identify NUMA node of platform GPU ID 0, defaulting to 0. Your kernel may not have been built with NUMA support.\n",
      "2023-07-21 06:32:31.087699: I tensorflow/core/common_runtime/pluggable_device/pluggable_device_factory.cc:271] Created TensorFlow device (/job:localhost/replica:0/task:0/device:GPU:0 with 0 MB memory) -> physical PluggableDevice (device: 0, name: METAL, pci bus id: <undefined>)\n"
     ]
    }
   ],
   "source": [
    "regressor = Sequential()\n",
    "#add 1st lstm layer\n",
    "regressor.add(LSTM(units = 50, return_sequences = True, input_shape = (X_train.shape[1], 1)))\n",
    "regressor.add(Dropout(rate = 0.2))\n",
    "\n",
    "##add 2nd lstm layer: 50 neurons\n",
    "regressor.add(LSTM(units = 50, return_sequences = True))\n",
    "regressor.add(Dropout(rate = 0.2))\n",
    "\n",
    "##add 3rd lstm layer\n",
    "regressor.add(LSTM(units = 50, return_sequences = True))\n",
    "regressor.add(Dropout(rate = 0.2))\n",
    "\n",
    "##add 4th lstm layer\n",
    "regressor.add(LSTM(units = 50, return_sequences = False))\n",
    "regressor.add(Dropout(rate = 0.2))\n",
    "\n",
    "##add output layer\n",
    "regressor.add(Dense(units = 1))"
   ]
  },
  {
   "cell_type": "code",
   "execution_count": 23,
   "metadata": {},
   "outputs": [],
   "source": [
    "regressor.compile(optimizer = 'adam', loss = 'mean_squared_error')"
   ]
  },
  {
   "cell_type": "code",
   "execution_count": 24,
   "metadata": {},
   "outputs": [
    {
     "name": "stdout",
     "output_type": "stream",
     "text": [
      "Epoch 1/100\n"
     ]
    },
    {
     "name": "stderr",
     "output_type": "stream",
     "text": [
      "2023-07-21 06:32:31.629364: W tensorflow/core/platform/profile_utils/cpu_utils.cc:128] Failed to get CPU frequency: 0 Hz\n",
      "2023-07-21 06:32:33.126106: I tensorflow/core/grappler/optimizers/custom_graph_optimizer_registry.cc:113] Plugin optimizer for device_type GPU is enabled.\n",
      "2023-07-21 06:32:33.630482: I tensorflow/core/grappler/optimizers/custom_graph_optimizer_registry.cc:113] Plugin optimizer for device_type GPU is enabled.\n",
      "2023-07-21 06:32:33.803598: I tensorflow/core/grappler/optimizers/custom_graph_optimizer_registry.cc:113] Plugin optimizer for device_type GPU is enabled.\n",
      "2023-07-21 06:32:33.937871: I tensorflow/core/grappler/optimizers/custom_graph_optimizer_registry.cc:113] Plugin optimizer for device_type GPU is enabled.\n",
      "2023-07-21 06:32:34.072111: I tensorflow/core/grappler/optimizers/custom_graph_optimizer_registry.cc:113] Plugin optimizer for device_type GPU is enabled.\n",
      "2023-07-21 06:32:34.282581: I tensorflow/core/grappler/optimizers/custom_graph_optimizer_registry.cc:113] Plugin optimizer for device_type GPU is enabled.\n",
      "2023-07-21 06:32:34.585939: I tensorflow/core/grappler/optimizers/custom_graph_optimizer_registry.cc:113] Plugin optimizer for device_type GPU is enabled.\n",
      "2023-07-21 06:32:34.827481: I tensorflow/core/grappler/optimizers/custom_graph_optimizer_registry.cc:113] Plugin optimizer for device_type GPU is enabled.\n",
      "2023-07-21 06:32:35.066674: I tensorflow/core/grappler/optimizers/custom_graph_optimizer_registry.cc:113] Plugin optimizer for device_type GPU is enabled.\n"
     ]
    },
    {
     "name": "stdout",
     "output_type": "stream",
     "text": [
      "46/46 [==============================] - 8s 97ms/step - loss: 0.0274\n",
      "Epoch 2/100\n",
      "46/46 [==============================] - 3s 70ms/step - loss: 0.0081\n",
      "Epoch 3/100\n",
      "46/46 [==============================] - 3s 66ms/step - loss: 0.0061\n",
      "Epoch 4/100\n",
      "46/46 [==============================] - 3s 65ms/step - loss: 0.0050\n",
      "Epoch 5/100\n",
      "46/46 [==============================] - 3s 69ms/step - loss: 0.0050\n",
      "Epoch 6/100\n",
      "46/46 [==============================] - 3s 66ms/step - loss: 0.0045\n",
      "Epoch 7/100\n",
      "46/46 [==============================] - 3s 68ms/step - loss: 0.0037\n",
      "Epoch 8/100\n",
      "46/46 [==============================] - 3s 63ms/step - loss: 0.0044\n",
      "Epoch 9/100\n",
      "46/46 [==============================] - 3s 66ms/step - loss: 0.0037\n",
      "Epoch 10/100\n",
      "46/46 [==============================] - 3s 63ms/step - loss: 0.0034\n",
      "Epoch 11/100\n",
      "46/46 [==============================] - 3s 63ms/step - loss: 0.0036\n",
      "Epoch 12/100\n",
      "46/46 [==============================] - 3s 65ms/step - loss: 0.0035\n",
      "Epoch 13/100\n",
      "46/46 [==============================] - 3s 65ms/step - loss: 0.0033\n",
      "Epoch 14/100\n",
      "46/46 [==============================] - 3s 67ms/step - loss: 0.0025\n",
      "Epoch 15/100\n",
      "46/46 [==============================] - 3s 69ms/step - loss: 0.0026\n",
      "Epoch 16/100\n",
      "46/46 [==============================] - 3s 71ms/step - loss: 0.0025\n",
      "Epoch 17/100\n",
      "46/46 [==============================] - 3s 66ms/step - loss: 0.0028\n",
      "Epoch 18/100\n",
      "46/46 [==============================] - 3s 70ms/step - loss: 0.0026\n",
      "Epoch 19/100\n",
      "46/46 [==============================] - 3s 66ms/step - loss: 0.0024\n",
      "Epoch 20/100\n",
      "46/46 [==============================] - 3s 69ms/step - loss: 0.0024\n",
      "Epoch 21/100\n",
      "46/46 [==============================] - 3s 70ms/step - loss: 0.0024\n",
      "Epoch 22/100\n",
      "46/46 [==============================] - 3s 72ms/step - loss: 0.0023\n",
      "Epoch 23/100\n",
      "46/46 [==============================] - 3s 67ms/step - loss: 0.0023\n",
      "Epoch 24/100\n",
      "46/46 [==============================] - 3s 67ms/step - loss: 0.0019\n",
      "Epoch 25/100\n",
      "46/46 [==============================] - 3s 64ms/step - loss: 0.0018\n",
      "Epoch 26/100\n",
      "46/46 [==============================] - 3s 65ms/step - loss: 0.0021\n",
      "Epoch 27/100\n",
      "46/46 [==============================] - 3s 65ms/step - loss: 0.0019\n",
      "Epoch 28/100\n",
      "46/46 [==============================] - 3s 65ms/step - loss: 0.0017\n",
      "Epoch 29/100\n",
      "46/46 [==============================] - 3s 68ms/step - loss: 0.0017\n",
      "Epoch 30/100\n",
      "46/46 [==============================] - 3s 68ms/step - loss: 0.0022\n",
      "Epoch 31/100\n",
      "46/46 [==============================] - 3s 68ms/step - loss: 0.0016\n",
      "Epoch 32/100\n",
      "46/46 [==============================] - 3s 68ms/step - loss: 0.0016\n",
      "Epoch 33/100\n",
      "46/46 [==============================] - 3s 65ms/step - loss: 0.0016\n",
      "Epoch 34/100\n",
      "46/46 [==============================] - 3s 63ms/step - loss: 0.0015\n",
      "Epoch 35/100\n",
      "46/46 [==============================] - 3s 63ms/step - loss: 0.0012\n",
      "Epoch 36/100\n",
      "46/46 [==============================] - 3s 63ms/step - loss: 0.0016\n",
      "Epoch 37/100\n",
      "46/46 [==============================] - 3s 63ms/step - loss: 0.0014\n",
      "Epoch 38/100\n",
      "46/46 [==============================] - 3s 63ms/step - loss: 0.0012\n",
      "Epoch 39/100\n",
      "46/46 [==============================] - 3s 62ms/step - loss: 0.0014\n",
      "Epoch 40/100\n",
      "46/46 [==============================] - 3s 68ms/step - loss: 0.0016\n",
      "Epoch 41/100\n",
      "46/46 [==============================] - 3s 65ms/step - loss: 0.0015\n",
      "Epoch 42/100\n",
      "46/46 [==============================] - 3s 65ms/step - loss: 0.0011\n",
      "Epoch 43/100\n",
      "46/46 [==============================] - 3s 65ms/step - loss: 0.0014\n",
      "Epoch 44/100\n",
      "46/46 [==============================] - 3s 65ms/step - loss: 0.0012\n",
      "Epoch 45/100\n",
      "46/46 [==============================] - 3s 65ms/step - loss: 0.0014\n",
      "Epoch 46/100\n",
      "46/46 [==============================] - 3s 65ms/step - loss: 0.0013\n",
      "Epoch 47/100\n",
      "46/46 [==============================] - 3s 65ms/step - loss: 0.0011\n",
      "Epoch 48/100\n",
      "46/46 [==============================] - 3s 65ms/step - loss: 0.0011\n",
      "Epoch 49/100\n",
      "46/46 [==============================] - 3s 65ms/step - loss: 0.0012\n",
      "Epoch 50/100\n",
      "46/46 [==============================] - 3s 67ms/step - loss: 0.0012\n",
      "Epoch 51/100\n",
      "46/46 [==============================] - 3s 65ms/step - loss: 0.0013\n",
      "Epoch 52/100\n",
      "46/46 [==============================] - 3s 66ms/step - loss: 0.0012\n",
      "Epoch 53/100\n",
      "46/46 [==============================] - 3s 65ms/step - loss: 0.0011\n",
      "Epoch 54/100\n",
      "46/46 [==============================] - 3s 65ms/step - loss: 0.0011\n",
      "Epoch 55/100\n",
      "46/46 [==============================] - 3s 65ms/step - loss: 0.0010\n",
      "Epoch 56/100\n",
      "46/46 [==============================] - 3s 66ms/step - loss: 0.0011\n",
      "Epoch 57/100\n",
      "46/46 [==============================] - 3s 66ms/step - loss: 0.0012\n",
      "Epoch 58/100\n",
      "46/46 [==============================] - 3s 66ms/step - loss: 0.0012\n",
      "Epoch 59/100\n",
      "46/46 [==============================] - 3s 65ms/step - loss: 0.0010\n",
      "Epoch 60/100\n",
      "46/46 [==============================] - 3s 65ms/step - loss: 0.0012\n",
      "Epoch 61/100\n",
      "46/46 [==============================] - 3s 65ms/step - loss: 0.0011\n",
      "Epoch 62/100\n",
      "46/46 [==============================] - 3s 65ms/step - loss: 0.0012\n",
      "Epoch 63/100\n",
      "46/46 [==============================] - 3s 65ms/step - loss: 9.9415e-04\n",
      "Epoch 64/100\n",
      "46/46 [==============================] - 3s 65ms/step - loss: 0.0011\n",
      "Epoch 65/100\n",
      "46/46 [==============================] - 3s 66ms/step - loss: 0.0011\n",
      "Epoch 66/100\n",
      "46/46 [==============================] - 3s 66ms/step - loss: 0.0011\n",
      "Epoch 67/100\n",
      "46/46 [==============================] - 3s 65ms/step - loss: 0.0012\n",
      "Epoch 68/100\n",
      "46/46 [==============================] - 3s 65ms/step - loss: 9.4977e-04\n",
      "Epoch 69/100\n",
      "46/46 [==============================] - 3s 65ms/step - loss: 0.0011\n",
      "Epoch 70/100\n",
      "46/46 [==============================] - 3s 68ms/step - loss: 9.9088e-04\n",
      "Epoch 71/100\n",
      "46/46 [==============================] - 3s 72ms/step - loss: 0.0011\n",
      "Epoch 72/100\n",
      "46/46 [==============================] - 3s 71ms/step - loss: 9.9090e-04\n",
      "Epoch 73/100\n",
      "46/46 [==============================] - 3s 67ms/step - loss: 9.7170e-04\n",
      "Epoch 74/100\n",
      "46/46 [==============================] - 3s 65ms/step - loss: 7.8252e-04\n",
      "Epoch 75/100\n",
      "46/46 [==============================] - 3s 64ms/step - loss: 0.0031\n",
      "Epoch 76/100\n",
      "46/46 [==============================] - 3s 65ms/step - loss: 0.0012\n",
      "Epoch 77/100\n",
      "46/46 [==============================] - 3s 64ms/step - loss: 9.9769e-04\n",
      "Epoch 78/100\n",
      "46/46 [==============================] - 3s 63ms/step - loss: 9.6614e-04\n",
      "Epoch 79/100\n",
      "46/46 [==============================] - 3s 63ms/step - loss: 9.3739e-04\n",
      "Epoch 80/100\n",
      "46/46 [==============================] - 3s 63ms/step - loss: 9.6438e-04\n",
      "Epoch 81/100\n",
      "46/46 [==============================] - 3s 63ms/step - loss: 0.0010\n",
      "Epoch 82/100\n",
      "46/46 [==============================] - 3s 63ms/step - loss: 9.6322e-04\n",
      "Epoch 83/100\n",
      "46/46 [==============================] - 3s 63ms/step - loss: 8.9485e-04\n",
      "Epoch 84/100\n",
      "46/46 [==============================] - 3s 63ms/step - loss: 0.0010\n",
      "Epoch 85/100\n",
      "46/46 [==============================] - 3s 63ms/step - loss: 9.4525e-04\n",
      "Epoch 86/100\n",
      "46/46 [==============================] - 3s 63ms/step - loss: 8.3392e-04\n",
      "Epoch 87/100\n",
      "46/46 [==============================] - 3s 63ms/step - loss: 9.3246e-04\n",
      "Epoch 88/100\n",
      "46/46 [==============================] - 3s 63ms/step - loss: 9.8979e-04\n",
      "Epoch 89/100\n",
      "46/46 [==============================] - 3s 63ms/step - loss: 0.0011\n",
      "Epoch 90/100\n",
      "46/46 [==============================] - 3s 63ms/step - loss: 9.4338e-04\n",
      "Epoch 91/100\n",
      "46/46 [==============================] - 3s 65ms/step - loss: 8.1507e-04\n",
      "Epoch 92/100\n",
      "46/46 [==============================] - 3s 67ms/step - loss: 0.0012\n",
      "Epoch 93/100\n",
      "46/46 [==============================] - 3s 69ms/step - loss: 8.0163e-04\n",
      "Epoch 94/100\n",
      "46/46 [==============================] - 3s 65ms/step - loss: 9.3309e-04\n",
      "Epoch 95/100\n",
      "46/46 [==============================] - 3s 67ms/step - loss: 9.1012e-04\n",
      "Epoch 96/100\n",
      "46/46 [==============================] - 3s 66ms/step - loss: 0.0010\n",
      "Epoch 97/100\n",
      "46/46 [==============================] - 3s 65ms/step - loss: 0.0011\n",
      "Epoch 98/100\n",
      "46/46 [==============================] - 3s 68ms/step - loss: 8.6944e-04\n",
      "Epoch 99/100\n",
      "46/46 [==============================] - 3s 68ms/step - loss: 9.2547e-04\n",
      "Epoch 100/100\n",
      "46/46 [==============================] - 3s 67ms/step - loss: 9.3773e-04\n"
     ]
    },
    {
     "data": {
      "text/plain": [
       "<keras.callbacks.History at 0x2971f19f0>"
      ]
     },
     "execution_count": 24,
     "metadata": {},
     "output_type": "execute_result"
    }
   ],
   "source": [
    "regressor.fit(x = X_train, y = y_train, batch_size = 32, epochs = 100)"
   ]
  },
  {
   "cell_type": "code",
   "execution_count": 37,
   "metadata": {},
   "outputs": [],
   "source": [
    "regressor.save('my_lstm_model.h5')"
   ]
  },
  {
   "cell_type": "code",
   "execution_count": 25,
   "metadata": {},
   "outputs": [],
   "source": [
    "dataset_test = pd.read_csv('Google_Stock_Price_Test.csv')"
   ]
  },
  {
   "cell_type": "code",
   "execution_count": 26,
   "metadata": {},
   "outputs": [],
   "source": [
    "real_stock_price = dataset_test.iloc[:, 4: 5].values"
   ]
  },
  {
   "cell_type": "code",
   "execution_count": 27,
   "metadata": {},
   "outputs": [
    {
     "name": "stderr",
     "output_type": "stream",
     "text": [
      "/var/folders/58/fz8921qx2fngl6byrhmxmd880000gn/T/ipykernel_45579/365282560.py:5: FutureWarning: The behavior of `series[i:j]` with an integer-dtype index is deprecated. In a future version, this will be treated as *label-based* indexing, consistent with e.g. `series[i]` lookups. To retain the old behavior, use `series.iloc[i:j]`. To get the future behavior, use `series.loc[i:j]`.\n",
      "  inputs = dataset_total[len(dataset_total) - len(dataset_test) - 60:].values\n"
     ]
    }
   ],
   "source": [
    "#vertical concat use 0, horizontal uses 1\n",
    "dataset_total = pd.concat((df['Close'], dataset_test['Close']), \n",
    "                          axis = 0)\n",
    "##use .values to make numpy array\n",
    "inputs = dataset_total[len(dataset_total) - len(dataset_test) - 60:].values"
   ]
  },
  {
   "cell_type": "code",
   "execution_count": 28,
   "metadata": {},
   "outputs": [],
   "source": [
    "#reshape data to only have 1 col\n",
    "inputs = inputs.reshape(-1, 1)\n",
    "\n",
    "#scale input\n",
    "inputs = scaler.transform(inputs)"
   ]
  },
  {
   "cell_type": "code",
   "execution_count": 29,
   "metadata": {},
   "outputs": [],
   "source": [
    "X_test = []\n",
    "for i in range(60, len(inputs)):\n",
    "    X_test.append(inputs[i-60:i, 0])\n",
    "X_test = np.array(X_test)\n",
    "#add dimension of indicator\n",
    "X_test = np.reshape(X_test, (X_test.shape[0], X_test.shape[1], 1))"
   ]
  },
  {
   "cell_type": "code",
   "execution_count": 30,
   "metadata": {},
   "outputs": [
    {
     "name": "stderr",
     "output_type": "stream",
     "text": [
      "2023-07-21 06:37:39.402675: I tensorflow/core/grappler/optimizers/custom_graph_optimizer_registry.cc:113] Plugin optimizer for device_type GPU is enabled.\n",
      "2023-07-21 06:37:39.578622: I tensorflow/core/grappler/optimizers/custom_graph_optimizer_registry.cc:113] Plugin optimizer for device_type GPU is enabled.\n",
      "2023-07-21 06:37:39.709831: I tensorflow/core/grappler/optimizers/custom_graph_optimizer_registry.cc:113] Plugin optimizer for device_type GPU is enabled.\n",
      "2023-07-21 06:37:39.847219: I tensorflow/core/grappler/optimizers/custom_graph_optimizer_registry.cc:113] Plugin optimizer for device_type GPU is enabled.\n"
     ]
    },
    {
     "name": "stdout",
     "output_type": "stream",
     "text": [
      "1/4 [======>.......................] - ETA: 3s"
     ]
    },
    {
     "name": "stderr",
     "output_type": "stream",
     "text": [
      "2023-07-21 06:37:39.982187: I tensorflow/core/grappler/optimizers/custom_graph_optimizer_registry.cc:113] Plugin optimizer for device_type GPU is enabled.\n"
     ]
    },
    {
     "name": "stdout",
     "output_type": "stream",
     "text": [
      "4/4 [==============================] - 2s 155ms/step\n"
     ]
    }
   ],
   "source": [
    "predicted_stock_price = regressor.predict(X_test)"
   ]
  },
  {
   "cell_type": "code",
   "execution_count": 31,
   "metadata": {},
   "outputs": [],
   "source": [
    "#inverse the scaled value\n",
    "predicted_stock_price = scaler.inverse_transform(predicted_stock_price)"
   ]
  },
  {
   "cell_type": "code",
   "execution_count": 38,
   "metadata": {},
   "outputs": [
    {
     "data": {
      "image/png": "[encoded data removed]",
      "text/plain": [
       "<Figure size 640x480 with 1 Axes>"
      ]
     },
     "metadata": {},
     "output_type": "display_data"
    }
   ],
   "source": [
    "plt.plot(real_stock_price, color = 'red', label = 'Real price')\n",
    "plt.plot(predicted_stock_price, color = 'blue', label = 'Predicted price')\n",
    "\n",
    "plt.title('Google price prediction')\n",
    "plt.xlabel('Time')\n",
    "plt.ylabel('Price')\n",
    "plt.legend()\n",
    "plt.show()"
   ]
  },
  {
   "cell_type": "code",
   "execution_count": 40,
   "metadata": {},
   "outputs": [],
   "source": [
    "def calculate_mape(actual_values, predicted_values):\n",
    "    actual_values = np.array(actual_values)\n",
    "    predicted_values = np.array(predicted_values)\n",
    "\n",
    "    # Avoiding division by zero, replace any actual values of zero with a small epsilon\n",
    "    epsilon = 1e-10\n",
    "    actual_values = np.where(actual_values != 0, actual_values, epsilon)\n",
    "\n",
    "    mape = np.mean(np.abs((actual_values - predicted_values) / actual_values)) * 100\n",
    "    return mape"
   ]
  },
  {
   "cell_type": "code",
   "execution_count": 41,
   "metadata": {},
   "outputs": [
    {
     "name": "stdout",
     "output_type": "stream",
     "text": [
      "MAPE: 1.7475426267515322\n"
     ]
    }
   ],
   "source": [
    "mape_result = calculate_mape(real_stock_price, predicted_stock_price)\n",
    "print(\"MAPE:\", mape_result)"
   ]
  },
  {
   "cell_type": "code",
   "execution_count": null,
   "metadata": {},
   "outputs": [],
   "source": []
  }
 ],
 "metadata": {
  "kernelspec": {
   "display_name": "tensorflow-test",
   "language": "python",
   "name": "tensorflow-test"
  },
  "language_info": {
   "codemirror_mode": {
    "name": "ipython",
    "version": 3
   },
   "file_extension": ".py",
   "mimetype": "text/x-python",
   "name": "python",
   "nbconvert_exporter": "python",
   "pygments_lexer": "ipython3",
   "version": "3.10.8"
  },
  "orig_nbformat": 4
 },
 "nbformat": 4,
 "nbformat_minor": 2
}
